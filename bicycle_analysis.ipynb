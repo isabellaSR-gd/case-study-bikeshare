{
 "cells": [
  {
   "cell_type": "markdown",
   "metadata": {},
   "source": [
    "Uso da biblioteca pandas"
   ]
  },
  {
   "cell_type": "code",
   "execution_count": 1,
   "metadata": {},
   "outputs": [],
   "source": [
    "import pandas as pd\n",
    "import numpy as np"
   ]
  },
  {
   "cell_type": "code",
   "execution_count": 2,
   "metadata": {},
   "outputs": [],
   "source": [
    "Q1_19 = pd.read_csv('Divvy_Trips_2019_Q1.csv')\n",
    "Q1_20 = pd.read_csv('Divvy_Trips_2020_Q1.csv')"
   ]
  },
  {
   "cell_type": "code",
   "execution_count": 3,
   "metadata": {},
   "outputs": [
    {
     "data": {
      "text/html": [
       "<div>\n",
       "<style scoped>\n",
       "    .dataframe tbody tr th:only-of-type {\n",
       "        vertical-align: middle;\n",
       "    }\n",
       "\n",
       "    .dataframe tbody tr th {\n",
       "        vertical-align: top;\n",
       "    }\n",
       "\n",
       "    .dataframe thead th {\n",
       "        text-align: right;\n",
       "    }\n",
       "</style>\n",
       "<table border=\"1\" class=\"dataframe\">\n",
       "  <thead>\n",
       "    <tr style=\"text-align: right;\">\n",
       "      <th></th>\n",
       "      <th>trip_id</th>\n",
       "      <th>start_time</th>\n",
       "      <th>end_time</th>\n",
       "      <th>bikeid</th>\n",
       "      <th>tripduration</th>\n",
       "      <th>from_station_id</th>\n",
       "      <th>from_station_name</th>\n",
       "      <th>to_station_id</th>\n",
       "      <th>to_station_name</th>\n",
       "      <th>usertype</th>\n",
       "      <th>gender</th>\n",
       "      <th>birthyear</th>\n",
       "    </tr>\n",
       "  </thead>\n",
       "  <tbody>\n",
       "    <tr>\n",
       "      <th>0</th>\n",
       "      <td>21742443</td>\n",
       "      <td>2019-01-01 00:04:37</td>\n",
       "      <td>2019-01-01 00:11:07</td>\n",
       "      <td>2167</td>\n",
       "      <td>390.0</td>\n",
       "      <td>199</td>\n",
       "      <td>Wabash Ave &amp; Grand Ave</td>\n",
       "      <td>84</td>\n",
       "      <td>Milwaukee Ave &amp; Grand Ave</td>\n",
       "      <td>Subscriber</td>\n",
       "      <td>Male</td>\n",
       "      <td>1989.0</td>\n",
       "    </tr>\n",
       "    <tr>\n",
       "      <th>1</th>\n",
       "      <td>21742444</td>\n",
       "      <td>2019-01-01 00:08:13</td>\n",
       "      <td>2019-01-01 00:15:34</td>\n",
       "      <td>4386</td>\n",
       "      <td>441.0</td>\n",
       "      <td>44</td>\n",
       "      <td>State St &amp; Randolph St</td>\n",
       "      <td>624</td>\n",
       "      <td>Dearborn St &amp; Van Buren St (*)</td>\n",
       "      <td>Subscriber</td>\n",
       "      <td>Female</td>\n",
       "      <td>1990.0</td>\n",
       "    </tr>\n",
       "    <tr>\n",
       "      <th>2</th>\n",
       "      <td>21742445</td>\n",
       "      <td>2019-01-01 00:13:23</td>\n",
       "      <td>2019-01-01 00:27:12</td>\n",
       "      <td>1524</td>\n",
       "      <td>829.0</td>\n",
       "      <td>15</td>\n",
       "      <td>Racine Ave &amp; 18th St</td>\n",
       "      <td>644</td>\n",
       "      <td>Western Ave &amp; Fillmore St (*)</td>\n",
       "      <td>Subscriber</td>\n",
       "      <td>Female</td>\n",
       "      <td>1994.0</td>\n",
       "    </tr>\n",
       "    <tr>\n",
       "      <th>3</th>\n",
       "      <td>21742446</td>\n",
       "      <td>2019-01-01 00:13:45</td>\n",
       "      <td>2019-01-01 00:43:28</td>\n",
       "      <td>252</td>\n",
       "      <td>1,783.0</td>\n",
       "      <td>123</td>\n",
       "      <td>California Ave &amp; Milwaukee Ave</td>\n",
       "      <td>176</td>\n",
       "      <td>Clark St &amp; Elm St</td>\n",
       "      <td>Subscriber</td>\n",
       "      <td>Male</td>\n",
       "      <td>1993.0</td>\n",
       "    </tr>\n",
       "    <tr>\n",
       "      <th>4</th>\n",
       "      <td>21742447</td>\n",
       "      <td>2019-01-01 00:14:52</td>\n",
       "      <td>2019-01-01 00:20:56</td>\n",
       "      <td>1170</td>\n",
       "      <td>364.0</td>\n",
       "      <td>173</td>\n",
       "      <td>Mies van der Rohe Way &amp; Chicago Ave</td>\n",
       "      <td>35</td>\n",
       "      <td>Streeter Dr &amp; Grand Ave</td>\n",
       "      <td>Subscriber</td>\n",
       "      <td>Male</td>\n",
       "      <td>1994.0</td>\n",
       "    </tr>\n",
       "  </tbody>\n",
       "</table>\n",
       "</div>"
      ],
      "text/plain": [
       "    trip_id           start_time             end_time  bikeid tripduration  \\\n",
       "0  21742443  2019-01-01 00:04:37  2019-01-01 00:11:07    2167        390.0   \n",
       "1  21742444  2019-01-01 00:08:13  2019-01-01 00:15:34    4386        441.0   \n",
       "2  21742445  2019-01-01 00:13:23  2019-01-01 00:27:12    1524        829.0   \n",
       "3  21742446  2019-01-01 00:13:45  2019-01-01 00:43:28     252      1,783.0   \n",
       "4  21742447  2019-01-01 00:14:52  2019-01-01 00:20:56    1170        364.0   \n",
       "\n",
       "   from_station_id                    from_station_name  to_station_id  \\\n",
       "0              199               Wabash Ave & Grand Ave             84   \n",
       "1               44               State St & Randolph St            624   \n",
       "2               15                 Racine Ave & 18th St            644   \n",
       "3              123       California Ave & Milwaukee Ave            176   \n",
       "4              173  Mies van der Rohe Way & Chicago Ave             35   \n",
       "\n",
       "                  to_station_name    usertype  gender  birthyear  \n",
       "0       Milwaukee Ave & Grand Ave  Subscriber    Male     1989.0  \n",
       "1  Dearborn St & Van Buren St (*)  Subscriber  Female     1990.0  \n",
       "2   Western Ave & Fillmore St (*)  Subscriber  Female     1994.0  \n",
       "3               Clark St & Elm St  Subscriber    Male     1993.0  \n",
       "4         Streeter Dr & Grand Ave  Subscriber    Male     1994.0  "
      ]
     },
     "execution_count": 3,
     "metadata": {},
     "output_type": "execute_result"
    }
   ],
   "source": [
    "Q1_19.head()"
   ]
  },
  {
   "cell_type": "code",
   "execution_count": 10,
   "metadata": {},
   "outputs": [
    {
     "data": {
      "text/html": [
       "<div>\n",
       "<style scoped>\n",
       "    .dataframe tbody tr th:only-of-type {\n",
       "        vertical-align: middle;\n",
       "    }\n",
       "\n",
       "    .dataframe tbody tr th {\n",
       "        vertical-align: top;\n",
       "    }\n",
       "\n",
       "    .dataframe thead th {\n",
       "        text-align: right;\n",
       "    }\n",
       "</style>\n",
       "<table border=\"1\" class=\"dataframe\">\n",
       "  <thead>\n",
       "    <tr style=\"text-align: right;\">\n",
       "      <th></th>\n",
       "      <th>ride_id</th>\n",
       "      <th>rideable_type</th>\n",
       "      <th>started_at</th>\n",
       "      <th>ended_at</th>\n",
       "      <th>start_station_name</th>\n",
       "      <th>start_station_id</th>\n",
       "      <th>end_station_name</th>\n",
       "      <th>end_station_id</th>\n",
       "      <th>start_lat</th>\n",
       "      <th>start_lng</th>\n",
       "      <th>end_lat</th>\n",
       "      <th>end_lng</th>\n",
       "      <th>member_casual</th>\n",
       "    </tr>\n",
       "  </thead>\n",
       "  <tbody>\n",
       "    <tr>\n",
       "      <th>0</th>\n",
       "      <td>EACB19130B0CDA4A</td>\n",
       "      <td>docked_bike</td>\n",
       "      <td>2020-01-21 20:06:59</td>\n",
       "      <td>2020-01-21 20:14:30</td>\n",
       "      <td>Western Ave &amp; Leland Ave</td>\n",
       "      <td>239</td>\n",
       "      <td>Clark St &amp; Leland Ave</td>\n",
       "      <td>326.0</td>\n",
       "      <td>41.9665</td>\n",
       "      <td>-87.6884</td>\n",
       "      <td>41.9671</td>\n",
       "      <td>-87.6674</td>\n",
       "      <td>member</td>\n",
       "    </tr>\n",
       "    <tr>\n",
       "      <th>1</th>\n",
       "      <td>8FED874C809DC021</td>\n",
       "      <td>docked_bike</td>\n",
       "      <td>2020-01-30 14:22:39</td>\n",
       "      <td>2020-01-30 14:26:22</td>\n",
       "      <td>Clark St &amp; Montrose Ave</td>\n",
       "      <td>234</td>\n",
       "      <td>Southport Ave &amp; Irving Park Rd</td>\n",
       "      <td>318.0</td>\n",
       "      <td>41.9616</td>\n",
       "      <td>-87.6660</td>\n",
       "      <td>41.9542</td>\n",
       "      <td>-87.6644</td>\n",
       "      <td>member</td>\n",
       "    </tr>\n",
       "    <tr>\n",
       "      <th>2</th>\n",
       "      <td>789F3C21E472CA96</td>\n",
       "      <td>docked_bike</td>\n",
       "      <td>2020-01-09 19:29:26</td>\n",
       "      <td>2020-01-09 19:32:17</td>\n",
       "      <td>Broadway &amp; Belmont Ave</td>\n",
       "      <td>296</td>\n",
       "      <td>Wilton Ave &amp; Belmont Ave</td>\n",
       "      <td>117.0</td>\n",
       "      <td>41.9401</td>\n",
       "      <td>-87.6455</td>\n",
       "      <td>41.9402</td>\n",
       "      <td>-87.6530</td>\n",
       "      <td>member</td>\n",
       "    </tr>\n",
       "    <tr>\n",
       "      <th>3</th>\n",
       "      <td>C9A388DAC6ABF313</td>\n",
       "      <td>docked_bike</td>\n",
       "      <td>2020-01-06 16:17:07</td>\n",
       "      <td>2020-01-06 16:25:56</td>\n",
       "      <td>Clark St &amp; Randolph St</td>\n",
       "      <td>51</td>\n",
       "      <td>Fairbanks Ct &amp; Grand Ave</td>\n",
       "      <td>24.0</td>\n",
       "      <td>41.8846</td>\n",
       "      <td>-87.6319</td>\n",
       "      <td>41.8918</td>\n",
       "      <td>-87.6206</td>\n",
       "      <td>member</td>\n",
       "    </tr>\n",
       "    <tr>\n",
       "      <th>4</th>\n",
       "      <td>943BC3CBECCFD662</td>\n",
       "      <td>docked_bike</td>\n",
       "      <td>2020-01-30 08:37:16</td>\n",
       "      <td>2020-01-30 08:42:48</td>\n",
       "      <td>Clinton St &amp; Lake St</td>\n",
       "      <td>66</td>\n",
       "      <td>Wells St &amp; Hubbard St</td>\n",
       "      <td>212.0</td>\n",
       "      <td>41.8856</td>\n",
       "      <td>-87.6418</td>\n",
       "      <td>41.8899</td>\n",
       "      <td>-87.6343</td>\n",
       "      <td>member</td>\n",
       "    </tr>\n",
       "  </tbody>\n",
       "</table>\n",
       "</div>"
      ],
      "text/plain": [
       "            ride_id rideable_type           started_at             ended_at  \\\n",
       "0  EACB19130B0CDA4A   docked_bike  2020-01-21 20:06:59  2020-01-21 20:14:30   \n",
       "1  8FED874C809DC021   docked_bike  2020-01-30 14:22:39  2020-01-30 14:26:22   \n",
       "2  789F3C21E472CA96   docked_bike  2020-01-09 19:29:26  2020-01-09 19:32:17   \n",
       "3  C9A388DAC6ABF313   docked_bike  2020-01-06 16:17:07  2020-01-06 16:25:56   \n",
       "4  943BC3CBECCFD662   docked_bike  2020-01-30 08:37:16  2020-01-30 08:42:48   \n",
       "\n",
       "         start_station_name  start_station_id                end_station_name  \\\n",
       "0  Western Ave & Leland Ave               239           Clark St & Leland Ave   \n",
       "1   Clark St & Montrose Ave               234  Southport Ave & Irving Park Rd   \n",
       "2    Broadway & Belmont Ave               296        Wilton Ave & Belmont Ave   \n",
       "3    Clark St & Randolph St                51        Fairbanks Ct & Grand Ave   \n",
       "4      Clinton St & Lake St                66           Wells St & Hubbard St   \n",
       "\n",
       "   end_station_id  start_lat  start_lng  end_lat  end_lng member_casual  \n",
       "0           326.0    41.9665   -87.6884  41.9671 -87.6674        member  \n",
       "1           318.0    41.9616   -87.6660  41.9542 -87.6644        member  \n",
       "2           117.0    41.9401   -87.6455  41.9402 -87.6530        member  \n",
       "3            24.0    41.8846   -87.6319  41.8918 -87.6206        member  \n",
       "4           212.0    41.8856   -87.6418  41.8899 -87.6343        member  "
      ]
     },
     "execution_count": 10,
     "metadata": {},
     "output_type": "execute_result"
    }
   ],
   "source": [
    "Q1_20.head()"
   ]
  },
  {
   "cell_type": "markdown",
   "metadata": {},
   "source": [
    "tabelas tem nomes e formatos de dados diferentes para várias colunas. primeiro passo é padronizá-las.\n",
    "a coluna usertype/ member_casual fala sobre os 2 tipos de usuários com termos diferentes, também é necessário padronizar. \n",
    "vou usar a tabela mais recente (Q1_2020) como padrão, por ser a mais recente e pois o documento de apresentação do projeto usa os termos casual e member.\n",
    "o dataframe Q1_20 tem colunas de latitude e longitude que o dataframe do ano anterior não tem. vou avaliar se precisamos dela, por enquanto, manter"
   ]
  },
  {
   "cell_type": "code",
   "execution_count": 5,
   "metadata": {},
   "outputs": [],
   "source": [
    "Q1_19_columns = Q1_19.rename(columns = {'trip_id': 'ride_id', 'start_time': 'started_at', 'end_time':'ended_at', 'from_station_id': 'start_station_name', 'from_station_name': 'start_station_name', 'to_station_id':'end_station_id', 'to_station_name':'end_station_name', 'usertype': 'member_casual'} )"
   ]
  },
  {
   "cell_type": "code",
   "execution_count": 6,
   "metadata": {},
   "outputs": [
    {
     "data": {
      "text/plain": [
       "(426887, 13)"
      ]
     },
     "execution_count": 6,
     "metadata": {},
     "output_type": "execute_result"
    }
   ],
   "source": [
    "Q1_20.shape"
   ]
  },
  {
   "cell_type": "code",
   "execution_count": 7,
   "metadata": {},
   "outputs": [
    {
     "data": {
      "text/plain": [
       "(365069, 12)"
      ]
     },
     "execution_count": 7,
     "metadata": {},
     "output_type": "execute_result"
    }
   ],
   "source": [
    "Q1_19_columns.shape"
   ]
  },
  {
   "cell_type": "markdown",
   "metadata": {},
   "source": [
    "merge deu errado, os tipos de dados são diferentes, eu não quero mergear, só adicionar colunas abaixo. porém parece que além dos nomes, os data types são diferentes"
   ]
  },
  {
   "cell_type": "code",
   "execution_count": null,
   "metadata": {},
   "outputs": [],
   "source": [
    "#bike_data = Q1_20.merge(Q1_19_columns, on= 'started_at', how='outer')"
   ]
  },
  {
   "cell_type": "code",
   "execution_count": 8,
   "metadata": {},
   "outputs": [
    {
     "name": "stdout",
     "output_type": "stream",
     "text": [
      "<class 'pandas.core.frame.DataFrame'>\n",
      "RangeIndex: 365069 entries, 0 to 365068\n",
      "Data columns (total 12 columns):\n",
      " #   Column              Non-Null Count   Dtype  \n",
      "---  ------              --------------   -----  \n",
      " 0   ride_id             365069 non-null  int64  \n",
      " 1   started_at          365069 non-null  object \n",
      " 2   ended_at            365069 non-null  object \n",
      " 3   bikeid              365069 non-null  int64  \n",
      " 4   tripduration        365069 non-null  object \n",
      " 5   start_station_name  365069 non-null  int64  \n",
      " 6   start_station_name  365069 non-null  object \n",
      " 7   end_station_id      365069 non-null  int64  \n",
      " 8   end_station_name    365069 non-null  object \n",
      " 9   member_casual       365069 non-null  object \n",
      " 10  gender              345358 non-null  object \n",
      " 11  birthyear           347046 non-null  float64\n",
      "dtypes: float64(1), int64(4), object(7)\n",
      "memory usage: 33.4+ MB\n"
     ]
    }
   ],
   "source": [
    "Q1_19_columns.info()"
   ]
  },
  {
   "cell_type": "code",
   "execution_count": 9,
   "metadata": {},
   "outputs": [],
   "source": [
    "Q1_19_columns['birthyear'] =Q1_19_columns['birthyear'].fillna(0)"
   ]
  },
  {
   "cell_type": "code",
   "execution_count": 10,
   "metadata": {},
   "outputs": [],
   "source": [
    "Q1_19_columns['gender'] = Q1_19_columns['gender'].fillna('not informed')"
   ]
  },
  {
   "cell_type": "code",
   "execution_count": 11,
   "metadata": {},
   "outputs": [
    {
     "name": "stdout",
     "output_type": "stream",
     "text": [
      "<class 'pandas.core.frame.DataFrame'>\n",
      "RangeIndex: 426887 entries, 0 to 426886\n",
      "Data columns (total 13 columns):\n",
      " #   Column              Non-Null Count   Dtype  \n",
      "---  ------              --------------   -----  \n",
      " 0   ride_id             426887 non-null  object \n",
      " 1   rideable_type       426887 non-null  object \n",
      " 2   started_at          426887 non-null  object \n",
      " 3   ended_at            426887 non-null  object \n",
      " 4   start_station_name  426887 non-null  object \n",
      " 5   start_station_id    426887 non-null  int64  \n",
      " 6   end_station_name    426886 non-null  object \n",
      " 7   end_station_id      426886 non-null  float64\n",
      " 8   start_lat           426887 non-null  float64\n",
      " 9   start_lng           426887 non-null  float64\n",
      " 10  end_lat             426886 non-null  float64\n",
      " 11  end_lng             426886 non-null  float64\n",
      " 12  member_casual       426887 non-null  object \n",
      "dtypes: float64(5), int64(1), object(7)\n",
      "memory usage: 42.3+ MB\n"
     ]
    }
   ],
   "source": [
    "Q1_20.info()"
   ]
  },
  {
   "cell_type": "markdown",
   "metadata": {},
   "source": [
    "talvez mergear os dados não é necessário, posso ver evolução de um ano para outro, etc"
   ]
  },
  {
   "cell_type": "code",
   "execution_count": 32,
   "metadata": {},
   "outputs": [
    {
     "data": {
      "text/plain": [
       "member_casual\n",
       "Subscriber    341906\n",
       "Customer       23163\n",
       "Name: count, dtype: int64"
      ]
     },
     "execution_count": 32,
     "metadata": {},
     "output_type": "execute_result"
    }
   ],
   "source": [
    "Q1_19_columns['member_casual'].value_counts()"
   ]
  },
  {
   "cell_type": "code",
   "execution_count": 12,
   "metadata": {},
   "outputs": [],
   "source": [
    "def rename_member_casual(member_casual):\n",
    "    if member_casual == 'Subscriber':\n",
    "        return 'member'\n",
    "    else:\n",
    "        return 'casual'"
   ]
  },
  {
   "cell_type": "code",
   "execution_count": 13,
   "metadata": {},
   "outputs": [],
   "source": [
    "Q1_19_columns['member_casual'] = Q1_19_columns['member_casual'].apply(rename_member_casual)"
   ]
  },
  {
   "cell_type": "code",
   "execution_count": 35,
   "metadata": {},
   "outputs": [
    {
     "data": {
      "text/plain": [
       "member_casual\n",
       "member    341906\n",
       "casual     23163\n",
       "Name: count, dtype: int64"
      ]
     },
     "execution_count": 35,
     "metadata": {},
     "output_type": "execute_result"
    }
   ],
   "source": [
    "Q1_19_columns['member_casual'].value_counts()"
   ]
  },
  {
   "cell_type": "code",
   "execution_count": 14,
   "metadata": {},
   "outputs": [
    {
     "data": {
      "text/plain": [
       "member_casual\n",
       "member    378407\n",
       "casual     48480\n",
       "Name: count, dtype: int64"
      ]
     },
     "execution_count": 14,
     "metadata": {},
     "output_type": "execute_result"
    }
   ],
   "source": [
    "Q1_20['member_casual'].value_counts()"
   ]
  },
  {
   "cell_type": "code",
   "execution_count": 36,
   "metadata": {},
   "outputs": [
    {
     "data": {
      "text/html": [
       "<div>\n",
       "<style scoped>\n",
       "    .dataframe tbody tr th:only-of-type {\n",
       "        vertical-align: middle;\n",
       "    }\n",
       "\n",
       "    .dataframe tbody tr th {\n",
       "        vertical-align: top;\n",
       "    }\n",
       "\n",
       "    .dataframe thead tr th {\n",
       "        text-align: left;\n",
       "    }\n",
       "\n",
       "    .dataframe thead tr:last-of-type th {\n",
       "        text-align: right;\n",
       "    }\n",
       "</style>\n",
       "<table border=\"1\" class=\"dataframe\">\n",
       "  <thead>\n",
       "    <tr>\n",
       "      <th></th>\n",
       "      <th colspan=\"21\" halign=\"left\">ride_id</th>\n",
       "    </tr>\n",
       "    <tr>\n",
       "      <th>birthyear</th>\n",
       "      <th>1900.0</th>\n",
       "      <th>1901.0</th>\n",
       "      <th>1918.0</th>\n",
       "      <th>1921.0</th>\n",
       "      <th>1931.0</th>\n",
       "      <th>1933.0</th>\n",
       "      <th>1934.0</th>\n",
       "      <th>1938.0</th>\n",
       "      <th>1939.0</th>\n",
       "      <th>1940.0</th>\n",
       "      <th>...</th>\n",
       "      <th>1994.0</th>\n",
       "      <th>1995.0</th>\n",
       "      <th>1996.0</th>\n",
       "      <th>1997.0</th>\n",
       "      <th>1998.0</th>\n",
       "      <th>1999.0</th>\n",
       "      <th>2000.0</th>\n",
       "      <th>2001.0</th>\n",
       "      <th>2002.0</th>\n",
       "      <th>2003.0</th>\n",
       "    </tr>\n",
       "    <tr>\n",
       "      <th>member_casual</th>\n",
       "      <th></th>\n",
       "      <th></th>\n",
       "      <th></th>\n",
       "      <th></th>\n",
       "      <th></th>\n",
       "      <th></th>\n",
       "      <th></th>\n",
       "      <th></th>\n",
       "      <th></th>\n",
       "      <th></th>\n",
       "      <th></th>\n",
       "      <th></th>\n",
       "      <th></th>\n",
       "      <th></th>\n",
       "      <th></th>\n",
       "      <th></th>\n",
       "      <th></th>\n",
       "      <th></th>\n",
       "      <th></th>\n",
       "      <th></th>\n",
       "      <th></th>\n",
       "    </tr>\n",
       "  </thead>\n",
       "  <tbody>\n",
       "    <tr>\n",
       "      <th>casual</th>\n",
       "      <td>NaN</td>\n",
       "      <td>2.0</td>\n",
       "      <td>NaN</td>\n",
       "      <td>NaN</td>\n",
       "      <td>NaN</td>\n",
       "      <td>NaN</td>\n",
       "      <td>NaN</td>\n",
       "      <td>NaN</td>\n",
       "      <td>NaN</td>\n",
       "      <td>NaN</td>\n",
       "      <td>...</td>\n",
       "      <td>475.0</td>\n",
       "      <td>524.0</td>\n",
       "      <td>356.0</td>\n",
       "      <td>231.0</td>\n",
       "      <td>231.0</td>\n",
       "      <td>210.0</td>\n",
       "      <td>225.0</td>\n",
       "      <td>29.0</td>\n",
       "      <td>27.0</td>\n",
       "      <td>NaN</td>\n",
       "    </tr>\n",
       "    <tr>\n",
       "      <th>member</th>\n",
       "      <td>69.0</td>\n",
       "      <td>NaN</td>\n",
       "      <td>40.0</td>\n",
       "      <td>60.0</td>\n",
       "      <td>2.0</td>\n",
       "      <td>7.0</td>\n",
       "      <td>5.0</td>\n",
       "      <td>1.0</td>\n",
       "      <td>13.0</td>\n",
       "      <td>29.0</td>\n",
       "      <td>...</td>\n",
       "      <td>10975.0</td>\n",
       "      <td>8035.0</td>\n",
       "      <td>4979.0</td>\n",
       "      <td>1643.0</td>\n",
       "      <td>1441.0</td>\n",
       "      <td>1684.0</td>\n",
       "      <td>601.0</td>\n",
       "      <td>89.0</td>\n",
       "      <td>56.0</td>\n",
       "      <td>2.0</td>\n",
       "    </tr>\n",
       "  </tbody>\n",
       "</table>\n",
       "<p>2 rows × 73 columns</p>\n",
       "</div>"
      ],
      "text/plain": [
       "              ride_id                                                          \\\n",
       "birthyear      1900.0 1901.0 1918.0 1921.0 1931.0 1933.0 1934.0 1938.0 1939.0   \n",
       "member_casual                                                                   \n",
       "casual            NaN    2.0    NaN    NaN    NaN    NaN    NaN    NaN    NaN   \n",
       "member           69.0    NaN   40.0   60.0    2.0    7.0    5.0    1.0   13.0   \n",
       "\n",
       "                      ...                                                   \\\n",
       "birthyear     1940.0  ...   1994.0  1995.0  1996.0  1997.0  1998.0  1999.0   \n",
       "member_casual         ...                                                    \n",
       "casual           NaN  ...    475.0   524.0   356.0   231.0   231.0   210.0   \n",
       "member          29.0  ...  10975.0  8035.0  4979.0  1643.0  1441.0  1684.0   \n",
       "\n",
       "                                           \n",
       "birthyear     2000.0 2001.0 2002.0 2003.0  \n",
       "member_casual                              \n",
       "casual         225.0   29.0   27.0    NaN  \n",
       "member         601.0   89.0   56.0    2.0  \n",
       "\n",
       "[2 rows x 73 columns]"
      ]
     },
     "execution_count": 36,
     "metadata": {},
     "output_type": "execute_result"
    }
   ],
   "source": [
    "pd.pivot_table(Q1_19_columns, values = ['ride_id'], index = 'member_casual', columns=['birthyear'],aggfunc='count')"
   ]
  },
  {
   "cell_type": "markdown",
   "metadata": {},
   "source": [
    "há vários birthyear que não fazem sentido para usuários de bicicletas em 2020. "
   ]
  },
  {
   "cell_type": "code",
   "execution_count": 37,
   "metadata": {},
   "outputs": [
    {
     "data": {
      "text/plain": [
       "birthyear\n",
       "1989.0    21014\n",
       "1992.0    18924\n",
       "1990.0    17410\n",
       "1987.0    17155\n",
       "1991.0    16146\n",
       "          ...  \n",
       "1901.0        2\n",
       "2003.0        2\n",
       "1931.0        2\n",
       "1941.0        1\n",
       "1938.0        1\n",
       "Name: count, Length: 73, dtype: int64"
      ]
     },
     "execution_count": 37,
     "metadata": {},
     "output_type": "execute_result"
    }
   ],
   "source": [
    "Q1_19_columns['birthyear'].value_counts()"
   ]
  },
  {
   "cell_type": "code",
   "execution_count": null,
   "metadata": {},
   "outputs": [],
   "source": []
  },
  {
   "cell_type": "code",
   "execution_count": 29,
   "metadata": {},
   "outputs": [
    {
     "data": {
      "text/html": [
       "<div>\n",
       "<style scoped>\n",
       "    .dataframe tbody tr th:only-of-type {\n",
       "        vertical-align: middle;\n",
       "    }\n",
       "\n",
       "    .dataframe tbody tr th {\n",
       "        vertical-align: top;\n",
       "    }\n",
       "\n",
       "    .dataframe thead th {\n",
       "        text-align: right;\n",
       "    }\n",
       "</style>\n",
       "<table border=\"1\" class=\"dataframe\">\n",
       "  <thead>\n",
       "    <tr style=\"text-align: right;\">\n",
       "      <th></th>\n",
       "      <th>ride_id</th>\n",
       "      <th>started_at</th>\n",
       "      <th>ended_at</th>\n",
       "      <th>bikeid</th>\n",
       "      <th>tripduration</th>\n",
       "      <th>start_station_name</th>\n",
       "      <th>start_station_name</th>\n",
       "      <th>end_station_id</th>\n",
       "      <th>end_station_name</th>\n",
       "      <th>member_casual</th>\n",
       "      <th>gender</th>\n",
       "      <th>birthyear</th>\n",
       "    </tr>\n",
       "  </thead>\n",
       "  <tbody>\n",
       "    <tr>\n",
       "      <th>20</th>\n",
       "      <td>21742464</td>\n",
       "      <td>2019-01-01 00:29:21</td>\n",
       "      <td>2019-01-01 00:45:21</td>\n",
       "      <td>140</td>\n",
       "      <td>960.0</td>\n",
       "      <td>47</td>\n",
       "      <td>State St &amp; Kinzie St</td>\n",
       "      <td>111</td>\n",
       "      <td>Sedgwick St &amp; Huron St</td>\n",
       "      <td>member</td>\n",
       "      <td>Male</td>\n",
       "      <td>1957.0</td>\n",
       "    </tr>\n",
       "    <tr>\n",
       "      <th>22</th>\n",
       "      <td>21742466</td>\n",
       "      <td>2019-01-01 00:29:47</td>\n",
       "      <td>2019-01-01 00:49:15</td>\n",
       "      <td>5026</td>\n",
       "      <td>1,168.0</td>\n",
       "      <td>85</td>\n",
       "      <td>Michigan Ave &amp; Oak St</td>\n",
       "      <td>329</td>\n",
       "      <td>Lake Shore Dr &amp; Diversey Pkwy</td>\n",
       "      <td>member</td>\n",
       "      <td>Male</td>\n",
       "      <td>1959.0</td>\n",
       "    </tr>\n",
       "    <tr>\n",
       "      <th>61</th>\n",
       "      <td>21742508</td>\n",
       "      <td>2019-01-01 01:26:27</td>\n",
       "      <td>2019-01-01 01:45:56</td>\n",
       "      <td>4105</td>\n",
       "      <td>1,169.0</td>\n",
       "      <td>29</td>\n",
       "      <td>Noble St &amp; Milwaukee Ave</td>\n",
       "      <td>137</td>\n",
       "      <td>Morgan Ave &amp; 14th Pl</td>\n",
       "      <td>member</td>\n",
       "      <td>Female</td>\n",
       "      <td>1952.0</td>\n",
       "    </tr>\n",
       "    <tr>\n",
       "      <th>121</th>\n",
       "      <td>21742571</td>\n",
       "      <td>2019-01-01 02:51:20</td>\n",
       "      <td>2019-01-01 03:36:56</td>\n",
       "      <td>544</td>\n",
       "      <td>2,736.0</td>\n",
       "      <td>318</td>\n",
       "      <td>Southport Ave &amp; Irving Park Rd</td>\n",
       "      <td>119</td>\n",
       "      <td>Ashland Ave &amp; Lake St (Temp)</td>\n",
       "      <td>member</td>\n",
       "      <td>Male</td>\n",
       "      <td>1954.0</td>\n",
       "    </tr>\n",
       "    <tr>\n",
       "      <th>144</th>\n",
       "      <td>21742596</td>\n",
       "      <td>2019-01-01 04:05:03</td>\n",
       "      <td>2019-01-01 04:09:30</td>\n",
       "      <td>218</td>\n",
       "      <td>267.0</td>\n",
       "      <td>514</td>\n",
       "      <td>Ridge Blvd &amp; Howard St</td>\n",
       "      <td>515</td>\n",
       "      <td>Paulina St &amp; Howard St</td>\n",
       "      <td>member</td>\n",
       "      <td>Male</td>\n",
       "      <td>1951.0</td>\n",
       "    </tr>\n",
       "    <tr>\n",
       "      <th>...</th>\n",
       "      <td>...</td>\n",
       "      <td>...</td>\n",
       "      <td>...</td>\n",
       "      <td>...</td>\n",
       "      <td>...</td>\n",
       "      <td>...</td>\n",
       "      <td>...</td>\n",
       "      <td>...</td>\n",
       "      <td>...</td>\n",
       "      <td>...</td>\n",
       "      <td>...</td>\n",
       "      <td>...</td>\n",
       "    </tr>\n",
       "    <tr>\n",
       "      <th>364744</th>\n",
       "      <td>22178081</td>\n",
       "      <td>2019-03-31 19:03:41</td>\n",
       "      <td>2019-03-31 19:14:49</td>\n",
       "      <td>6088</td>\n",
       "      <td>668.0</td>\n",
       "      <td>447</td>\n",
       "      <td>Glenwood Ave &amp; Morse Ave</td>\n",
       "      <td>447</td>\n",
       "      <td>Glenwood Ave &amp; Morse Ave</td>\n",
       "      <td>member</td>\n",
       "      <td>Female</td>\n",
       "      <td>1956.0</td>\n",
       "    </tr>\n",
       "    <tr>\n",
       "      <th>364798</th>\n",
       "      <td>22178141</td>\n",
       "      <td>2019-03-31 19:26:59</td>\n",
       "      <td>2019-03-31 19:35:07</td>\n",
       "      <td>5103</td>\n",
       "      <td>488.0</td>\n",
       "      <td>110</td>\n",
       "      <td>Dearborn St &amp; Erie St</td>\n",
       "      <td>301</td>\n",
       "      <td>Clark St &amp; Schiller St</td>\n",
       "      <td>member</td>\n",
       "      <td>Male</td>\n",
       "      <td>1953.0</td>\n",
       "    </tr>\n",
       "    <tr>\n",
       "      <th>364923</th>\n",
       "      <td>22178302</td>\n",
       "      <td>2019-03-31 20:25:26</td>\n",
       "      <td>2019-03-31 20:29:09</td>\n",
       "      <td>892</td>\n",
       "      <td>223.0</td>\n",
       "      <td>174</td>\n",
       "      <td>Canal St &amp; Madison St</td>\n",
       "      <td>98</td>\n",
       "      <td>LaSalle St &amp; Washington St</td>\n",
       "      <td>member</td>\n",
       "      <td>Female</td>\n",
       "      <td>1957.0</td>\n",
       "    </tr>\n",
       "    <tr>\n",
       "      <th>364950</th>\n",
       "      <td>22178343</td>\n",
       "      <td>2019-03-31 20:58:22</td>\n",
       "      <td>2019-03-31 21:20:35</td>\n",
       "      <td>5710</td>\n",
       "      <td>1,333.0</td>\n",
       "      <td>49</td>\n",
       "      <td>Dearborn St &amp; Monroe St</td>\n",
       "      <td>324</td>\n",
       "      <td>Stockton Dr &amp; Wrightwood Ave</td>\n",
       "      <td>member</td>\n",
       "      <td>Male</td>\n",
       "      <td>1954.0</td>\n",
       "    </tr>\n",
       "    <tr>\n",
       "      <th>365049</th>\n",
       "      <td>22178504</td>\n",
       "      <td>2019-03-31 23:10:19</td>\n",
       "      <td>2019-03-31 23:21:33</td>\n",
       "      <td>3767</td>\n",
       "      <td>674.0</td>\n",
       "      <td>50</td>\n",
       "      <td>Clark St &amp; Ida B Wells Dr</td>\n",
       "      <td>50</td>\n",
       "      <td>Clark St &amp; Ida B Wells Dr</td>\n",
       "      <td>member</td>\n",
       "      <td>Male</td>\n",
       "      <td>1957.0</td>\n",
       "    </tr>\n",
       "  </tbody>\n",
       "</table>\n",
       "<p>20285 rows × 12 columns</p>\n",
       "</div>"
      ],
      "text/plain": [
       "         ride_id           started_at             ended_at  bikeid  \\\n",
       "20      21742464  2019-01-01 00:29:21  2019-01-01 00:45:21     140   \n",
       "22      21742466  2019-01-01 00:29:47  2019-01-01 00:49:15    5026   \n",
       "61      21742508  2019-01-01 01:26:27  2019-01-01 01:45:56    4105   \n",
       "121     21742571  2019-01-01 02:51:20  2019-01-01 03:36:56     544   \n",
       "144     21742596  2019-01-01 04:05:03  2019-01-01 04:09:30     218   \n",
       "...          ...                  ...                  ...     ...   \n",
       "364744  22178081  2019-03-31 19:03:41  2019-03-31 19:14:49    6088   \n",
       "364798  22178141  2019-03-31 19:26:59  2019-03-31 19:35:07    5103   \n",
       "364923  22178302  2019-03-31 20:25:26  2019-03-31 20:29:09     892   \n",
       "364950  22178343  2019-03-31 20:58:22  2019-03-31 21:20:35    5710   \n",
       "365049  22178504  2019-03-31 23:10:19  2019-03-31 23:21:33    3767   \n",
       "\n",
       "       tripduration start_station_name              start_station_name  \\\n",
       "20            960.0                 47            State St & Kinzie St   \n",
       "22          1,168.0                 85           Michigan Ave & Oak St   \n",
       "61          1,169.0                 29        Noble St & Milwaukee Ave   \n",
       "121         2,736.0                318  Southport Ave & Irving Park Rd   \n",
       "144           267.0                514          Ridge Blvd & Howard St   \n",
       "...             ...                ...                             ...   \n",
       "364744        668.0                447        Glenwood Ave & Morse Ave   \n",
       "364798        488.0                110           Dearborn St & Erie St   \n",
       "364923        223.0                174           Canal St & Madison St   \n",
       "364950      1,333.0                 49         Dearborn St & Monroe St   \n",
       "365049        674.0                 50       Clark St & Ida B Wells Dr   \n",
       "\n",
       "        end_station_id               end_station_name member_casual  gender  \\\n",
       "20                 111         Sedgwick St & Huron St        member    Male   \n",
       "22                 329  Lake Shore Dr & Diversey Pkwy        member    Male   \n",
       "61                 137           Morgan Ave & 14th Pl        member  Female   \n",
       "121                119   Ashland Ave & Lake St (Temp)        member    Male   \n",
       "144                515         Paulina St & Howard St        member    Male   \n",
       "...                ...                            ...           ...     ...   \n",
       "364744             447       Glenwood Ave & Morse Ave        member  Female   \n",
       "364798             301         Clark St & Schiller St        member    Male   \n",
       "364923              98     LaSalle St & Washington St        member  Female   \n",
       "364950             324   Stockton Dr & Wrightwood Ave        member    Male   \n",
       "365049              50      Clark St & Ida B Wells Dr        member    Male   \n",
       "\n",
       "        birthyear  \n",
       "20         1957.0  \n",
       "22         1959.0  \n",
       "61         1952.0  \n",
       "121        1954.0  \n",
       "144        1951.0  \n",
       "...           ...  \n",
       "364744     1956.0  \n",
       "364798     1953.0  \n",
       "364923     1957.0  \n",
       "364950     1954.0  \n",
       "365049     1957.0  \n",
       "\n",
       "[20285 rows x 12 columns]"
      ]
     },
     "execution_count": 29,
     "metadata": {},
     "output_type": "execute_result"
    }
   ],
   "source": [
    "Q1_19_columns[(Q1_19_columns['birthyear']>=1945) & (Q1_19_columns['birthyear']<=1960)]"
   ]
  },
  {
   "cell_type": "markdown",
   "metadata": {},
   "source": [
    "filtrar usuários com birthyear menor ou igual a 1945, e aplicar a esses dados a média dos outros dados. "
   ]
  },
  {
   "cell_type": "code",
   "execution_count": 30,
   "metadata": {},
   "outputs": [
    {
     "data": {
      "text/plain": [
       "np.float64(1981.7417003768228)"
      ]
     },
     "execution_count": 30,
     "metadata": {},
     "output_type": "execute_result"
    }
   ],
   "source": [
    "Q1_19_columns[Q1_19_columns['birthyear']>1945]['birthyear'].mean()"
   ]
  },
  {
   "cell_type": "code",
   "execution_count": 31,
   "metadata": {},
   "outputs": [
    {
     "data": {
      "text/plain": [
       "np.float64(1985.0)"
      ]
     },
     "execution_count": 31,
     "metadata": {},
     "output_type": "execute_result"
    }
   ],
   "source": [
    "Q1_19_columns[Q1_19_columns['birthyear']>1945]['birthyear'].median()"
   ]
  },
  {
   "cell_type": "code",
   "execution_count": 17,
   "metadata": {},
   "outputs": [
    {
     "data": {
      "text/plain": [
       "0    1989.0\n",
       "Name: birthyear, dtype: float64"
      ]
     },
     "execution_count": 17,
     "metadata": {},
     "output_type": "execute_result"
    }
   ],
   "source": [
    "Q1_19_columns[Q1_19_columns['birthyear']>1945]['birthyear'].mode()"
   ]
  },
  {
   "cell_type": "code",
   "execution_count": 16,
   "metadata": {},
   "outputs": [
    {
     "data": {
      "text/plain": [
       "np.float64(1981.6742967791013)"
      ]
     },
     "execution_count": 16,
     "metadata": {},
     "output_type": "execute_result"
    }
   ],
   "source": [
    "Q1_19_columns['birthyear'].mean()"
   ]
  },
  {
   "cell_type": "code",
   "execution_count": 33,
   "metadata": {},
   "outputs": [],
   "source": [
    "def replace_birthyear(birthyear):\n",
    "    if birthyear <= 1945:\n",
    "        return 1989\n",
    "    else:\n",
    "        return birthyear"
   ]
  },
  {
   "cell_type": "code",
   "execution_count": 38,
   "metadata": {},
   "outputs": [
    {
     "data": {
      "text/plain": [
       "birthyear\n",
       "1989.0    39501\n",
       "1992.0    18924\n",
       "1990.0    17410\n",
       "1987.0    17155\n",
       "1991.0    16146\n",
       "1988.0    14588\n",
       "1993.0    14197\n",
       "1985.0    13411\n",
       "1986.0    13210\n",
       "1984.0    12835\n",
       "1994.0    11450\n",
       "1982.0    10641\n",
       "1983.0    10559\n",
       "1981.0     9733\n",
       "1980.0     9247\n",
       "1995.0     8559\n",
       "1977.0     8116\n",
       "1979.0     7432\n",
       "1978.0     6523\n",
       "1969.0     5923\n",
       "1976.0     5897\n",
       "1974.0     5842\n",
       "1970.0     5789\n",
       "1996.0     5335\n",
       "1972.0     5031\n",
       "1966.0     4663\n",
       "1975.0     4591\n",
       "1964.0     4569\n",
       "1962.0     4508\n",
       "1968.0     4408\n",
       "1971.0     4023\n",
       "1973.0     3973\n",
       "1965.0     3778\n",
       "1961.0     3534\n",
       "1967.0     3499\n",
       "1963.0     3449\n",
       "1960.0     3336\n",
       "1959.0     2377\n",
       "1958.0     2376\n",
       "1957.0     2136\n",
       "1956.0     2052\n",
       "1955.0     1904\n",
       "1999.0     1894\n",
       "1997.0     1874\n",
       "1998.0     1672\n",
       "1954.0     1384\n",
       "1951.0     1132\n",
       "1952.0     1096\n",
       "1953.0      930\n",
       "2000.0      826\n",
       "1950.0      464\n",
       "1948.0      332\n",
       "1946.0      307\n",
       "1949.0      232\n",
       "2001.0      118\n",
       "1947.0       93\n",
       "2002.0       83\n",
       "2003.0        2\n",
       "Name: count, dtype: int64"
      ]
     },
     "execution_count": 38,
     "metadata": {},
     "output_type": "execute_result"
    }
   ],
   "source": [
    "Q1_19_columns['birthyear'].value_counts(dropna=False)"
   ]
  },
  {
   "cell_type": "code",
   "execution_count": 35,
   "metadata": {},
   "outputs": [],
   "source": [
    "Q1_19_columns['birthyear'] = Q1_19_columns['birthyear'].apply(replace_birthyear)"
   ]
  },
  {
   "cell_type": "code",
   "execution_count": 36,
   "metadata": {},
   "outputs": [
    {
     "data": {
      "text/plain": [
       "gender\n",
       "Female           66918\n",
       "Male            278440\n",
       "not informed     19711\n",
       "Name: ride_id, dtype: int64"
      ]
     },
     "execution_count": 36,
     "metadata": {},
     "output_type": "execute_result"
    }
   ],
   "source": [
    "Q1_19_columns.groupby('gender')['ride_id'].nunique()"
   ]
  },
  {
   "cell_type": "code",
   "execution_count": 39,
   "metadata": {},
   "outputs": [
    {
     "data": {
      "text/html": [
       "<div>\n",
       "<style scoped>\n",
       "    .dataframe tbody tr th:only-of-type {\n",
       "        vertical-align: middle;\n",
       "    }\n",
       "\n",
       "    .dataframe tbody tr th {\n",
       "        vertical-align: top;\n",
       "    }\n",
       "\n",
       "    .dataframe thead tr th {\n",
       "        text-align: left;\n",
       "    }\n",
       "\n",
       "    .dataframe thead tr:last-of-type th {\n",
       "        text-align: right;\n",
       "    }\n",
       "</style>\n",
       "<table border=\"1\" class=\"dataframe\">\n",
       "  <thead>\n",
       "    <tr>\n",
       "      <th></th>\n",
       "      <th colspan=\"21\" halign=\"left\">ride_id</th>\n",
       "    </tr>\n",
       "    <tr>\n",
       "      <th>birthyear</th>\n",
       "      <th>1946.0</th>\n",
       "      <th>1947.0</th>\n",
       "      <th>1948.0</th>\n",
       "      <th>1949.0</th>\n",
       "      <th>1950.0</th>\n",
       "      <th>1951.0</th>\n",
       "      <th>1952.0</th>\n",
       "      <th>1953.0</th>\n",
       "      <th>1954.0</th>\n",
       "      <th>1955.0</th>\n",
       "      <th>...</th>\n",
       "      <th>1994.0</th>\n",
       "      <th>1995.0</th>\n",
       "      <th>1996.0</th>\n",
       "      <th>1997.0</th>\n",
       "      <th>1998.0</th>\n",
       "      <th>1999.0</th>\n",
       "      <th>2000.0</th>\n",
       "      <th>2001.0</th>\n",
       "      <th>2002.0</th>\n",
       "      <th>2003.0</th>\n",
       "    </tr>\n",
       "    <tr>\n",
       "      <th>member_casual</th>\n",
       "      <th></th>\n",
       "      <th></th>\n",
       "      <th></th>\n",
       "      <th></th>\n",
       "      <th></th>\n",
       "      <th></th>\n",
       "      <th></th>\n",
       "      <th></th>\n",
       "      <th></th>\n",
       "      <th></th>\n",
       "      <th></th>\n",
       "      <th></th>\n",
       "      <th></th>\n",
       "      <th></th>\n",
       "      <th></th>\n",
       "      <th></th>\n",
       "      <th></th>\n",
       "      <th></th>\n",
       "      <th></th>\n",
       "      <th></th>\n",
       "      <th></th>\n",
       "    </tr>\n",
       "  </thead>\n",
       "  <tbody>\n",
       "    <tr>\n",
       "      <th>casual</th>\n",
       "      <td>NaN</td>\n",
       "      <td>NaN</td>\n",
       "      <td>NaN</td>\n",
       "      <td>1.0</td>\n",
       "      <td>NaN</td>\n",
       "      <td>5.0</td>\n",
       "      <td>3.0</td>\n",
       "      <td>NaN</td>\n",
       "      <td>4.0</td>\n",
       "      <td>4.0</td>\n",
       "      <td>...</td>\n",
       "      <td>475.0</td>\n",
       "      <td>524.0</td>\n",
       "      <td>356.0</td>\n",
       "      <td>231.0</td>\n",
       "      <td>231.0</td>\n",
       "      <td>210.0</td>\n",
       "      <td>225.0</td>\n",
       "      <td>29.0</td>\n",
       "      <td>27.0</td>\n",
       "      <td>NaN</td>\n",
       "    </tr>\n",
       "    <tr>\n",
       "      <th>member</th>\n",
       "      <td>307.0</td>\n",
       "      <td>93.0</td>\n",
       "      <td>332.0</td>\n",
       "      <td>231.0</td>\n",
       "      <td>464.0</td>\n",
       "      <td>1127.0</td>\n",
       "      <td>1093.0</td>\n",
       "      <td>930.0</td>\n",
       "      <td>1380.0</td>\n",
       "      <td>1900.0</td>\n",
       "      <td>...</td>\n",
       "      <td>10975.0</td>\n",
       "      <td>8035.0</td>\n",
       "      <td>4979.0</td>\n",
       "      <td>1643.0</td>\n",
       "      <td>1441.0</td>\n",
       "      <td>1684.0</td>\n",
       "      <td>601.0</td>\n",
       "      <td>89.0</td>\n",
       "      <td>56.0</td>\n",
       "      <td>2.0</td>\n",
       "    </tr>\n",
       "  </tbody>\n",
       "</table>\n",
       "<p>2 rows × 58 columns</p>\n",
       "</div>"
      ],
      "text/plain": [
       "              ride_id                                                     \\\n",
       "birthyear      1946.0 1947.0 1948.0 1949.0 1950.0  1951.0  1952.0 1953.0   \n",
       "member_casual                                                              \n",
       "casual            NaN    NaN    NaN    1.0    NaN     5.0     3.0    NaN   \n",
       "member          307.0   93.0  332.0  231.0  464.0  1127.0  1093.0  930.0   \n",
       "\n",
       "                               ...                                           \\\n",
       "birthyear      1954.0  1955.0  ...   1994.0  1995.0  1996.0  1997.0  1998.0   \n",
       "member_casual                  ...                                            \n",
       "casual            4.0     4.0  ...    475.0   524.0   356.0   231.0   231.0   \n",
       "member         1380.0  1900.0  ...  10975.0  8035.0  4979.0  1643.0  1441.0   \n",
       "\n",
       "                                                   \n",
       "birthyear      1999.0 2000.0 2001.0 2002.0 2003.0  \n",
       "member_casual                                      \n",
       "casual          210.0  225.0   29.0   27.0    NaN  \n",
       "member         1684.0  601.0   89.0   56.0    2.0  \n",
       "\n",
       "[2 rows x 58 columns]"
      ]
     },
     "execution_count": 39,
     "metadata": {},
     "output_type": "execute_result"
    }
   ],
   "source": [
    "pd.pivot_table(Q1_19_columns, values = ['ride_id'], index = 'member_casual', columns=['birthyear'],aggfunc='count')"
   ]
  },
  {
   "cell_type": "code",
   "execution_count": 37,
   "metadata": {},
   "outputs": [
    {
     "data": {
      "text/plain": [
       "Index(['trip_id', 'start_time', 'end_time', 'bikeid', 'tripduration',\n",
       "       'from_station_id', 'from_station_name', 'to_station_id',\n",
       "       'to_station_name', 'usertype', 'gender', 'birthyear'],\n",
       "      dtype='object')"
      ]
     },
     "execution_count": 37,
     "metadata": {},
     "output_type": "execute_result"
    }
   ],
   "source": [
    "Q1_19.columns"
   ]
  }
 ],
 "metadata": {
  "kernelspec": {
   "display_name": "Python 3",
   "language": "python",
   "name": "python3"
  },
  "language_info": {
   "codemirror_mode": {
    "name": "ipython",
    "version": 3
   },
   "file_extension": ".py",
   "mimetype": "text/x-python",
   "name": "python",
   "nbconvert_exporter": "python",
   "pygments_lexer": "ipython3",
   "version": "3.13.2"
  }
 },
 "nbformat": 4,
 "nbformat_minor": 2
}
